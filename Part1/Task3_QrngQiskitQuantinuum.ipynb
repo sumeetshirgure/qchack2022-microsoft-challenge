{
 "cells": [
  {
   "cell_type": "markdown",
   "id": "b74f690d-793c-46db-b6d9-db3c12704c7f",
   "metadata": {},
   "source": [
    "# Task 3: Run Quantum Random Number Generator on Quantinuum Emulator\n",
    "\n",
    "*In this task, you are already given all the code you’ll need! You need to set up the Azure Quantum connection information and use it to run this code on the Quantinuum emulator target.*\n",
    "\n",
    "*To submit this task, update this notebook with the saved results of code cells execution and commit it in your challenge repository.*"
   ]
  },
  {
   "cell_type": "markdown",
   "id": "87b233df-a029-42f2-afe5-d4f71faf430b",
   "metadata": {
    "nteract": {
     "transient": {
      "deleting": false
     }
    }
   },
   "source": [
    "## Submit a simple job to Quantinuum using Azure Quantum\n",
    "Azure Quantum provides several ways to express quantum programs. In this example we are using [Qiskit](https://qiskit.org/), but note that Q# and Cirq are also supported. All code in this example will be written in Python.\n",
    "\n",
    "Let's begin. When you see a code block, hover over it and click the triangle play-button to execute it. To avoid any compilation issues, this should be done in order from top to bottom."
   ]
  },
  {
   "cell_type": "markdown",
   "id": "29de56dd-b0e8-4831-9fc4-c88d8e66e977",
   "metadata": {
    "nteract": {
     "transient": {
      "deleting": false
     }
    }
   },
   "source": [
    "### 1. Connect to the Azure Quantum workspace\n",
    "\n",
    "To connect to the Azure Quantum service, construct an instance of the `AzureQuantumProvider`. Note that it's imported from `azure.quantum.qiskit`.\n",
    "\n",
    "You need to substitute `<subscriptionId>`, `<resourceGroupId>`, `<workspaceId>`, and `<location>` in the connection string below with the parameter values from your own quantum workspace.\n",
    "You can learn how to create an Azure Quantum workspace in [this Microsoft Learn module](https://docs.microsoft.com/learn/modules/get-started-azure-quantum/3-create-quantum-workspace).\n",
    "(Executing this cell will open a new tab with a login prompt; return to the notebook once you log in.)"
   ]
  },
  {
   "cell_type": "code",
   "execution_count": 1,
   "id": "f7143ece-dfd3-475c-8a32-acc6dd3251b1",
   "metadata": {},
   "outputs": [],
   "source": [
    "from azure.quantum.qiskit import AzureQuantumProvider\n",
    "provider = AzureQuantumProvider (\n",
    "    resource_id = \"/subscriptions/b0c3bbe3-7123-4ba4-9aa2-57d9845f4a1d/resourceGroups/AzureQuantum/providers/Microsoft.Quantum/Workspaces/qchack-2022-b\",\n",
    "    location = \"westus\"\n",
    ")"
   ]
  },
  {
   "cell_type": "markdown",
   "id": "aed33054-887e-4ee5-b109-ce721d9c6b73",
   "metadata": {
    "nteract": {
     "transient": {
      "deleting": false
     }
    }
   },
   "source": [
    "Let's see what providers and targets are enabled in this workspace with the following command:"
   ]
  },
  {
   "cell_type": "code",
   "execution_count": 2,
   "id": "013da160-f9df-4bd6-afe8-193adc9c3e85",
   "metadata": {
    "jupyter": {
     "outputs_hidden": false,
     "source_hidden": false
    },
    "nteract": {
     "transient": {
      "deleting": false
     }
    }
   },
   "outputs": [
    {
     "name": "stdout",
     "output_type": "stream",
     "text": [
      "This workspace's targets:\n",
      "Opening in existing browser session.\n"
     ]
    },
    {
     "name": "stderr",
     "output_type": "stream",
     "text": [
      "libva error: vaGetDriverNameByIndex() failed with unknown libva error, driver_name = (null)\n",
      "[158010:158010:0100/000000.613443:ERROR:sandbox_linux.cc(377)] InitializeSandbox() called with multiple threads in process gpu-process.\n"
     ]
    },
    {
     "name": "stdout",
     "output_type": "stream",
     "text": [
      "- ionq.qpu\n",
      "- ionq.simulator\n",
      "- quantinuum.hqs-lt-s1\n",
      "- quantinuum.hqs-lt-s1-apival\n",
      "- quantinuum.hqs-lt-s2\n",
      "- quantinuum.hqs-lt-s2-apival\n",
      "- quantinuum.hqs-lt-s1-sim\n",
      "- quantinuum.hqs-lt-s2-sim\n"
     ]
    }
   ],
   "source": [
    "from qiskit import QuantumCircuit\n",
    "from qiskit.visualization import plot_histogram\n",
    "from qiskit.tools.monitor import job_monitor\n",
    "\n",
    "print(\"This workspace's targets:\")\n",
    "for backend in provider.backends():\n",
    "    print(\"- \" + backend.name())"
   ]
  },
  {
   "cell_type": "markdown",
   "id": "04bd4c91-cd6a-4124-bdc4-07b207275452",
   "metadata": {
    "nteract": {
     "transient": {
      "deleting": false
     }
    }
   },
   "source": [
    "### ❕ Do you see `quantinuum.hqs-lt-s2-apival` in your list of targets? If so, you're ready to keep going.\n",
    "\n",
    "## Quantinuum: The quantum provider\n",
    "Azure Quantum partners with third-party companies to deliver solutions to quantum jobs. These company offerings are called *providers*. Each provider can offer multiple *targets* with different capabilities. See the table below for Quantinuum's H1-2 device targets.\n",
    "\n",
    "| Target name | Target ID | Number of qubits | Description|\n",
    "| --- | ---| ---|---|\n",
    "H1-2 API Validator | `quantinuum.hqs-lt-s2-apival` | 12 | Quantinuum's H1-2 Syntax Checker. Use this to validate quantum programs before submitting to hardware or emulation on Quantinuum's platform and check a quantum circuit's cost in H-Series Quantum Credits (HQCs). Free of cost. |\n",
    "H1-2 Emulator | `quantinuum.hqs-lt-s2-sim` | 12 | Quantinuum's H1-2 emulator. Uses a realistic physical model and noise model that is consistent with the Quantinuum H1 hardware offering. |\n",
    "H1-2 | `quantinuum.hqs-lt-s2` | 12 | Quantinuum's H1-2 trapped ion device. |\n",
    "\n",
    "To start, we will use `quantinuum.hqs-lt-s2-apival` to avoid any costs or credit usage. To learn more about Quantinuum's targets, check out our [documentation](https://aka.ms/AQ/Quantinuum/Documentation)."
   ]
  },
  {
   "cell_type": "markdown",
   "id": "68e39acc-b21d-4222-b00c-5cf03163516a",
   "metadata": {},
   "source": [
    "### 2. Build the quantum program\n",
    "\n",
    "Let's create a simple Qiskit circuit to run."
   ]
  },
  {
   "cell_type": "code",
   "execution_count": 3,
   "id": "56527c3f-1a55-4b52-a51a-1ca5a0bff4a4",
   "metadata": {},
   "outputs": [
    {
     "data": {
      "text/html": [
       "<pre style=\"word-wrap: normal;white-space: pre;background: #fff0;line-height: 1.1;font-family: &quot;Courier New&quot;,Courier,monospace\">     ┌───┐┌─┐\n",
       "  q: ┤ H ├┤M├\n",
       "     └───┘└╥┘\n",
       "c: 1/══════╩═\n",
       "           0 </pre>"
      ],
      "text/plain": [
       "     ┌───┐┌─┐\n",
       "  q: ┤ H ├┤M├\n",
       "     └───┘└╥┘\n",
       "c: 1/══════╩═\n",
       "           0 "
      ]
     },
     "execution_count": 3,
     "metadata": {},
     "output_type": "execute_result"
    }
   ],
   "source": [
    "# Create a quantum circuit acting on a single qubit\n",
    "circuit = QuantumCircuit(1,1)\n",
    "circuit.name = \"Single qubit random\"\n",
    "circuit.h(0)\n",
    "circuit.measure(0, 0)\n",
    "\n",
    "# Print out the circuit\n",
    "circuit.draw()"
   ]
  },
  {
   "cell_type": "markdown",
   "id": "7c432312-6f15-4c6d-85de-ab1f778a5203",
   "metadata": {
    "nteract": {
     "transient": {
      "deleting": false
     }
    }
   },
   "source": [
    "The circuit you built is a simple quantum random bit generator. With Quantinuum's API validator, we will be able to confirm that the circuit is able to be run on the Quantinuum H1-2 emulator and hardware."
   ]
  },
  {
   "cell_type": "markdown",
   "id": "63e8a8fc-6429-4582-aca9-65cc3d7b1490",
   "metadata": {},
   "source": [
    "### 3. Submit the quantum program to Quantinuum"
   ]
  },
  {
   "cell_type": "code",
   "execution_count": 4,
   "id": "99d82860-93a9-495e-8730-71581fb27e2c",
   "metadata": {},
   "outputs": [
    {
     "name": "stdout",
     "output_type": "stream",
     "text": [
      "Job id: d2195e96-b846-11ec-bbd2-9843fa02ff35\n"
     ]
    }
   ],
   "source": [
    "# Create an object that represents Quantinuum's API validator target, \"quantinuum.hqs-lt-s2-apival\".\n",
    "#   Note that any target you have enabled in this workspace can\n",
    "#   be used here. Azure Quantum makes it extremely easy to submit\n",
    "#   the same quantum program to different providers. \n",
    "quantinuum_api_val_backend = provider.get_backend(\"quantinuum.hqs-lt-s2-apival\")\n",
    "\n",
    "# Using the Quantinuum target, call \"run\" to submit the job. We'll\n",
    "# use a count of 100 (simulated runs).\n",
    "job_api_val = quantinuum_api_val_backend.run(circuit, count=100)\n",
    "print(\"Job id:\", job_api_val.id())"
   ]
  },
  {
   "cell_type": "markdown",
   "id": "3ed48954-9365-4364-bf16-b1f6f95aa858",
   "metadata": {
    "nteract": {
     "transient": {
      "deleting": false
     }
    }
   },
   "source": [
    "The job ID can be used to retrieve the results later using the [get_details function](https://docs.microsoft.com/en-us/azure/quantum/optimization-job-reference#jobdetails) or by viewing it under the **Job management** section of the portal."
   ]
  },
  {
   "cell_type": "markdown",
   "id": "f305bdb3-f8ed-4f39-926c-aa2469639f5f",
   "metadata": {
    "nteract": {
     "transient": {
      "deleting": false
     }
    }
   },
   "source": [
    "### 4. Obtain the job results\n",
    "You can monitor the job status with Qiskit's `job_monitor` function.\n",
    "\n",
    "This may take a minute or so ⏳. Your job will be packaged and sent to Quantinuum, where it will wait its turn to be run. You'll see your job go through these stages: \"job is queued\" &rarr; \"job is actively running\" &rarr; \"job has successfully run.\""
   ]
  },
  {
   "cell_type": "code",
   "execution_count": 5,
   "id": "8174c809-ce96-4ef6-9b3d-effd5dc943e7",
   "metadata": {},
   "outputs": [
    {
     "name": "stdout",
     "output_type": "stream",
     "text": [
      "Job Status: job has successfully run\n"
     ]
    },
    {
     "data": {
      "image/png": "[encoded data removed]",
      "text/plain": [
       "<Figure size 504x360 with 1 Axes>"
      ]
     },
     "execution_count": 5,
     "metadata": {},
     "output_type": "execute_result"
    }
   ],
   "source": [
    "job_monitor(job_api_val)\n",
    "\n",
    "result_api_val = job_api_val.result()\n",
    "\n",
    "# The result object is native to the Qiskit package, so we can use Qiskit's tools to print the result as a histogram.\n",
    "# For API validation, we expect to see all zeroes.\n",
    "plot_histogram(result_api_val.get_counts(circuit), title=\"Result\", number_to_keep=2)"
   ]
  },
  {
   "cell_type": "markdown",
   "id": "b55b10b3-6a49-49f2-8ea8-c7c4cf80b483",
   "metadata": {
    "nteract": {
     "transient": {
      "deleting": false
     }
    }
   },
   "source": [
    "**See the histogram above? Congratulations, you've submitted a job with Azure Quantum! 👏**\n"
   ]
  },
  {
   "cell_type": "markdown",
   "id": "810c7536-1952-4b8d-bb24-07c6aafcd6c8",
   "metadata": {},
   "source": [
    "### 5. Estimate costs\n",
    "\n",
    "To estimate the costs of running this program on the emulator, you can use the `backend.estimate_cost` method."
   ]
  },
  {
   "cell_type": "code",
   "execution_count": 6,
   "id": "cd336bb0-3a8b-4691-891c-83528de30b90",
   "metadata": {},
   "outputs": [
    {
     "name": "stdout",
     "output_type": "stream",
     "text": [
      "Estimated cost: 5.12 EHQC\n"
     ]
    }
   ],
   "source": [
    "# Create an object that represents Quantinuum's API emulator target, \"quantinuum.hqs-lt-s2-sim\".\n",
    "quantinuum_sim_backend = provider.get_backend(\"quantinuum.hqs-lt-s2-sim\")\n",
    "cost = quantinuum_sim_backend.estimate_cost(circuit, shots=100)\n",
    "print(f\"Estimated cost: {cost.estimated_total} {cost.currency_code}\")"
   ]
  },
  {
   "cell_type": "markdown",
   "id": "d0dc33ad-ca94-4174-b948-e5265622f61d",
   "metadata": {
    "nteract": {
     "transient": {
      "deleting": false
     }
    }
   },
   "source": [
    "### 6. Submit the job to the emulator\n",
    "\n",
    "Next, run the same program on Quantinuum's H1-2 emulation targets. Just replace `quantinuum.hqs-lt-s2-apival` with `quantinuum.hqs-lt-s2-sim`.\n",
    "\n",
    "To learn more about submitting Qiskit circuits to Azure Quantum, review [this documentation](https://docs.microsoft.com/azure/quantum/quickstart-microsoft-qiskit?pivots=platform-quantinuum)."
   ]
  },
  {
   "cell_type": "code",
   "execution_count": 7,
   "id": "6434cd85-7be5-48fb-a368-0b34cc6eb5e4",
   "metadata": {},
   "outputs": [
    {
     "name": "stdout",
     "output_type": "stream",
     "text": [
      "Job id: 186ab868-b847-11ec-bbd2-9843fa02ff35\n"
     ]
    }
   ],
   "source": [
    "# Using the Quantinuum target target, call \"run\" to submit the job. We'll\n",
    "# use a count of 100 (simulated runs).\n",
    "job_sim = quantinuum_sim_backend.run(circuit, count=100)\n",
    "print(\"Job id:\", job_sim.id())"
   ]
  },
  {
   "cell_type": "code",
   "execution_count": 8,
   "id": "e63a2cb6-e025-4674-8272-a2d642abf887",
   "metadata": {},
   "outputs": [
    {
     "name": "stdout",
     "output_type": "stream",
     "text": [
      "Job Status: job has successfully run\n"
     ]
    },
    {
     "data": {
      "image/png": "[encoded data removed]",
      "text/plain": [
       "<Figure size 504x360 with 1 Axes>"
      ]
     },
     "execution_count": 8,
     "metadata": {},
     "output_type": "execute_result"
    }
   ],
   "source": [
    "job_monitor(job_sim)\n",
    "\n",
    "result_sim = job_sim.result()\n",
    "\n",
    "# The result object is native to the Qiskit package, so we can use Qiskit's tools to print the result as a histogram.\n",
    "# For running on an emulator, we expect to see random bits generated.\n",
    "plot_histogram(result_sim.get_counts(circuit), title=\"Result\")"
   ]
  },
  {
   "cell_type": "code",
   "execution_count": null,
   "id": "d6117127",
   "metadata": {},
   "outputs": [],
   "source": []
  }
 ],
 "metadata": {
  "kernel_info": {
   "name": "python3"
  },
  "kernelspec": {
   "display_name": "Q",
   "language": "python",
   "name": "q"
  },
  "language_info": {
   "codemirror_mode": {
    "name": "ipython",
    "version": 3
   },
   "file_extension": ".py",
   "mimetype": "text/x-python",
   "name": "python",
   "nbconvert_exporter": "python",
   "pygments_lexer": "ipython3",
   "version": "3.10.4"
  },
  "nteract": {
   "version": "nteract-front-end@1.0.0"
  }
 },
 "nbformat": 4,
 "nbformat_minor": 5
}
